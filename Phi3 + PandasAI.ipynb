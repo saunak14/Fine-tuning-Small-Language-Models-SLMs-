{
 "cells": [
  {
   "cell_type": "code",
   "execution_count": 1,
   "id": "e8968e0d-9703-4261-9744-0ad4f2f93645",
   "metadata": {},
   "outputs": [],
   "source": [
    "import ollama"
   ]
  },
  {
   "cell_type": "code",
   "execution_count": 2,
   "id": "970e9619-9ca6-49ba-b148-308ddb98667f",
   "metadata": {},
   "outputs": [],
   "source": [
    "import pandas as pd"
   ]
  },
  {
   "cell_type": "markdown",
   "id": "2904a15e-37cf-4180-a55d-5139e10bfc61",
   "metadata": {},
   "source": [
    "## Reading employee data as a pandas dataframe"
   ]
  },
  {
   "cell_type": "code",
   "execution_count": 3,
   "id": "647f5f38-a228-493c-b78f-b12327cf0ba4",
   "metadata": {},
   "outputs": [
    {
     "data": {
      "text/html": [
       "<div>\n",
       "<style scoped>\n",
       "    .dataframe tbody tr th:only-of-type {\n",
       "        vertical-align: middle;\n",
       "    }\n",
       "\n",
       "    .dataframe tbody tr th {\n",
       "        vertical-align: top;\n",
       "    }\n",
       "\n",
       "    .dataframe thead th {\n",
       "        text-align: right;\n",
       "    }\n",
       "</style>\n",
       "<table border=\"1\" class=\"dataframe\">\n",
       "  <thead>\n",
       "    <tr style=\"text-align: right;\">\n",
       "      <th></th>\n",
       "      <th>employee_id</th>\n",
       "      <th>name</th>\n",
       "      <th>designation</th>\n",
       "    </tr>\n",
       "  </thead>\n",
       "  <tbody>\n",
       "    <tr>\n",
       "      <th>0</th>\n",
       "      <td>b2b4e014-fa01-40b9-aeb7-4182a72c31da</td>\n",
       "      <td>Brianna</td>\n",
       "      <td>Software Engineer</td>\n",
       "    </tr>\n",
       "    <tr>\n",
       "      <th>1</th>\n",
       "      <td>eb6d79c3-a8e1-4d3b-8027-33dae18990e0</td>\n",
       "      <td>Jennifer</td>\n",
       "      <td>Senior Software Engineer</td>\n",
       "    </tr>\n",
       "    <tr>\n",
       "      <th>2</th>\n",
       "      <td>a67a773d-89f9-4bb2-8a1c-c68db84b0028</td>\n",
       "      <td>Jessica</td>\n",
       "      <td>Team Lead</td>\n",
       "    </tr>\n",
       "    <tr>\n",
       "      <th>3</th>\n",
       "      <td>97b6548d-ad5c-4f89-8f0e-fcd90478861e</td>\n",
       "      <td>Cheryl</td>\n",
       "      <td>Project Manager</td>\n",
       "    </tr>\n",
       "    <tr>\n",
       "      <th>4</th>\n",
       "      <td>1e7a8ba4-0741-4707-b8dc-921ba3909760</td>\n",
       "      <td>Abigail</td>\n",
       "      <td>Technical Architect</td>\n",
       "    </tr>\n",
       "  </tbody>\n",
       "</table>\n",
       "</div>"
      ],
      "text/plain": [
       "                            employee_id      name               designation\n",
       "0  b2b4e014-fa01-40b9-aeb7-4182a72c31da   Brianna         Software Engineer\n",
       "1  eb6d79c3-a8e1-4d3b-8027-33dae18990e0  Jennifer  Senior Software Engineer\n",
       "2  a67a773d-89f9-4bb2-8a1c-c68db84b0028   Jessica                 Team Lead\n",
       "3  97b6548d-ad5c-4f89-8f0e-fcd90478861e    Cheryl           Project Manager\n",
       "4  1e7a8ba4-0741-4707-b8dc-921ba3909760   Abigail       Technical Architect"
      ]
     },
     "execution_count": 3,
     "metadata": {},
     "output_type": "execute_result"
    }
   ],
   "source": [
    "data = pd.read_csv(\"employees.csv\")\n",
    "data.head()"
   ]
  },
  {
   "cell_type": "markdown",
   "id": "7ac3e677-3347-4013-b25d-d2dc4916b14f",
   "metadata": {},
   "source": [
    "## Local SLM model phi3"
   ]
  },
  {
   "cell_type": "code",
   "execution_count": 4,
   "id": "3a203123-5a4a-4bd0-9e6f-27a1e059532b",
   "metadata": {},
   "outputs": [],
   "source": [
    "from langchain_community.llms import Ollama\n",
    "llm = Ollama(model = \"phi3\")"
   ]
  },
  {
   "cell_type": "code",
   "execution_count": 14,
   "id": "11f0f87f-899b-4087-afda-dfa214457980",
   "metadata": {},
   "outputs": [],
   "source": [
    "from pandasai.llm.local_llm import LocalLLM\n",
    "llm = LocalLLM(\n",
    "    api_base = \"http://localhost:11434/v1\",\n",
    "    model = \"phi3\"\n",
    ")"
   ]
  },
  {
   "cell_type": "markdown",
   "id": "b55bda86-8295-4d7c-9e69-6cdddb207512",
   "metadata": {},
   "source": [
    "### Using PandasAI to chat with own dataframe"
   ]
  },
  {
   "cell_type": "code",
   "execution_count": 15,
   "id": "e73252b0-8e47-43d9-b7b1-b1ef5a470b19",
   "metadata": {},
   "outputs": [],
   "source": [
    "from pandasai import SmartDataframe"
   ]
  },
  {
   "cell_type": "code",
   "execution_count": 16,
   "id": "4df49b8b-e1ff-44b6-a5eb-f4b0f40c0153",
   "metadata": {},
   "outputs": [],
   "source": [
    "df = SmartDataframe(data, config={\"llm\": llm})"
   ]
  },
  {
   "cell_type": "code",
   "execution_count": 18,
   "id": "7a37a807-2099-474e-8f56-8eb4b078e1d0",
   "metadata": {},
   "outputs": [
    {
     "data": {
      "text/plain": [
       "100"
      ]
     },
     "execution_count": 18,
     "metadata": {},
     "output_type": "execute_result"
    }
   ],
   "source": [
    "df.chat('how many employees are there?')"
   ]
  },
  {
   "cell_type": "code",
   "execution_count": 19,
   "id": "f543ca42-bdaf-4361-ba4c-199e91d8d692",
   "metadata": {},
   "outputs": [
    {
     "data": {
      "text/plain": [
       "5"
      ]
     },
     "execution_count": 19,
     "metadata": {},
     "output_type": "execute_result"
    }
   ],
   "source": [
    "df.chat('how many employees with designation Team Lead are there?')"
   ]
  },
  {
   "cell_type": "code",
   "execution_count": 11,
   "id": "242224e7-4bba-43ef-9d6d-8a7f6b08faec",
   "metadata": {},
   "outputs": [
    {
     "data": {
      "text/plain": [
       "5"
      ]
     },
     "execution_count": 11,
     "metadata": {},
     "output_type": "execute_result"
    }
   ],
   "source": [
    "df.chat('how many employees with designation Software Engineer are there?')"
   ]
  },
  {
   "cell_type": "code",
   "execution_count": 10,
   "id": "609bcb37-07fc-47f8-93ca-1b760944e59d",
   "metadata": {},
   "outputs": [
    {
     "data": {
      "text/plain": [
       "5"
      ]
     },
     "execution_count": 10,
     "metadata": {},
     "output_type": "execute_result"
    }
   ],
   "source": [
    "df.chat('how many employees with designation Senior Software Engineer are there?')"
   ]
  },
  {
   "cell_type": "code",
   "execution_count": 12,
   "id": "5e53ccf0-d76e-4aae-9672-a224a283f610",
   "metadata": {},
   "outputs": [
    {
     "name": "stdout",
     "output_type": "stream",
     "text": [
      "{'type': 'dataframe', 'value':                              employee_id       name               designation  \\\n",
      "80  6f59590f-b5c8-482e-ace1-73b992882f54      Amber         Software Engineer   \n",
      "0   b2b4e014-fa01-40b9-aeb7-4182a72c31da    Brianna         Software Engineer   \n",
      "40  cf9f533e-8b42-4074-8c2a-3700c8483830     Brooke         Software Engineer   \n",
      "60  82f723fd-1c61-4899-af46-259f8a500d77  Frederick         Software Engineer   \n",
      "20  357fbca9-0575-4a73-8d94-cc5e702b41b5     Rachel         Software Engineer   \n",
      "..                                   ...        ...                       ...   \n",
      "61  a2f52e7b-8695-42bb-a890-9f411be5b73c     Taylor  Senior Software Engineer   \n",
      "51  08a86a22-8ea1-4680-b152-741502797058     Teresa    Database Administrator   \n",
      "81  a2f067e6-9080-4ed8-92be-24fa6779af5a     Tracey  Senior Software Engineer   \n",
      "82  04b45c38-1c7f-49bd-a74a-a02fe01de474   Veronica                 Team Lead   \n",
      "53  fe2f8aa5-fd04-4aec-a3ee-b550c31602d4   Virginia            UI/UX Designer   \n",
      "\n",
      "    hierarchy_level  \n",
      "80              4.0  \n",
      "0               4.0  \n",
      "40              4.0  \n",
      "60              4.0  \n",
      "20              4.0  \n",
      "..              ...  \n",
      "61              NaN  \n",
      "51              NaN  \n",
      "81              NaN  \n",
      "82              NaN  \n",
      "53              NaN  \n",
      "\n",
      "[100 rows x 4 columns]}\n"
     ]
    },
    {
     "data": {
      "text/html": [
       "<div>\n",
       "<style scoped>\n",
       "    .dataframe tbody tr th:only-of-type {\n",
       "        vertical-align: middle;\n",
       "    }\n",
       "\n",
       "    .dataframe tbody tr th {\n",
       "        vertical-align: top;\n",
       "    }\n",
       "\n",
       "    .dataframe thead th {\n",
       "        text-align: right;\n",
       "    }\n",
       "</style>\n",
       "<table border=\"1\" class=\"dataframe\">\n",
       "  <thead>\n",
       "    <tr style=\"text-align: right;\">\n",
       "      <th></th>\n",
       "      <th>employee_id</th>\n",
       "      <th>name</th>\n",
       "      <th>designation</th>\n",
       "      <th>hierarchy_level</th>\n",
       "    </tr>\n",
       "  </thead>\n",
       "  <tbody>\n",
       "    <tr>\n",
       "      <th>80</th>\n",
       "      <td>6f59590f-b5c8-482e-ace1-73b992882f54</td>\n",
       "      <td>Amber</td>\n",
       "      <td>Software Engineer</td>\n",
       "      <td>4.0</td>\n",
       "    </tr>\n",
       "    <tr>\n",
       "      <th>0</th>\n",
       "      <td>b2b4e014-fa01-40b9-aeb7-4182a72c31da</td>\n",
       "      <td>Brianna</td>\n",
       "      <td>Software Engineer</td>\n",
       "      <td>4.0</td>\n",
       "    </tr>\n",
       "    <tr>\n",
       "      <th>40</th>\n",
       "      <td>cf9f533e-8b42-4074-8c2a-3700c8483830</td>\n",
       "      <td>Brooke</td>\n",
       "      <td>Software Engineer</td>\n",
       "      <td>4.0</td>\n",
       "    </tr>\n",
       "    <tr>\n",
       "      <th>60</th>\n",
       "      <td>82f723fd-1c61-4899-af46-259f8a500d77</td>\n",
       "      <td>Frederick</td>\n",
       "      <td>Software Engineer</td>\n",
       "      <td>4.0</td>\n",
       "    </tr>\n",
       "    <tr>\n",
       "      <th>20</th>\n",
       "      <td>357fbca9-0575-4a73-8d94-cc5e702b41b5</td>\n",
       "      <td>Rachel</td>\n",
       "      <td>Software Engineer</td>\n",
       "      <td>4.0</td>\n",
       "    </tr>\n",
       "    <tr>\n",
       "      <th>...</th>\n",
       "      <td>...</td>\n",
       "      <td>...</td>\n",
       "      <td>...</td>\n",
       "      <td>...</td>\n",
       "    </tr>\n",
       "    <tr>\n",
       "      <th>61</th>\n",
       "      <td>a2f52e7b-8695-42bb-a890-9f411be5b73c</td>\n",
       "      <td>Taylor</td>\n",
       "      <td>Senior Software Engineer</td>\n",
       "      <td>NaN</td>\n",
       "    </tr>\n",
       "    <tr>\n",
       "      <th>51</th>\n",
       "      <td>08a86a22-8ea1-4680-b152-741502797058</td>\n",
       "      <td>Teresa</td>\n",
       "      <td>Database Administrator</td>\n",
       "      <td>NaN</td>\n",
       "    </tr>\n",
       "    <tr>\n",
       "      <th>81</th>\n",
       "      <td>a2f067e6-9080-4ed8-92be-24fa6779af5a</td>\n",
       "      <td>Tracey</td>\n",
       "      <td>Senior Software Engineer</td>\n",
       "      <td>NaN</td>\n",
       "    </tr>\n",
       "    <tr>\n",
       "      <th>82</th>\n",
       "      <td>04b45c38-1c7f-49bd-a74a-a02fe01de474</td>\n",
       "      <td>Veronica</td>\n",
       "      <td>Team Lead</td>\n",
       "      <td>NaN</td>\n",
       "    </tr>\n",
       "    <tr>\n",
       "      <th>53</th>\n",
       "      <td>fe2f8aa5-fd04-4aec-a3ee-b550c31602d4</td>\n",
       "      <td>Virginia</td>\n",
       "      <td>UI/UX Designer</td>\n",
       "      <td>NaN</td>\n",
       "    </tr>\n",
       "  </tbody>\n",
       "</table>\n",
       "<p>100 rows × 4 columns</p>\n",
       "</div>"
      ],
      "text/plain": [
       "                             employee_id       name               designation  \\\n",
       "80  6f59590f-b5c8-482e-ace1-73b992882f54      Amber         Software Engineer   \n",
       "0   b2b4e014-fa01-40b9-aeb7-4182a72c31da    Brianna         Software Engineer   \n",
       "40  cf9f533e-8b42-4074-8c2a-3700c8483830     Brooke         Software Engineer   \n",
       "60  82f723fd-1c61-4899-af46-259f8a500d77  Frederick         Software Engineer   \n",
       "20  357fbca9-0575-4a73-8d94-cc5e702b41b5     Rachel         Software Engineer   \n",
       "..                                   ...        ...                       ...   \n",
       "61  a2f52e7b-8695-42bb-a890-9f411be5b73c     Taylor  Senior Software Engineer   \n",
       "51  08a86a22-8ea1-4680-b152-741502797058     Teresa    Database Administrator   \n",
       "81  a2f067e6-9080-4ed8-92be-24fa6779af5a     Tracey  Senior Software Engineer   \n",
       "82  04b45c38-1c7f-49bd-a74a-a02fe01de474   Veronica                 Team Lead   \n",
       "53  fe2f8aa5-fd04-4aec-a3ee-b550c31602d4   Virginia            UI/UX Designer   \n",
       "\n",
       "    hierarchy_level  \n",
       "80              4.0  \n",
       "0               4.0  \n",
       "40              4.0  \n",
       "60              4.0  \n",
       "20              4.0  \n",
       "..              ...  \n",
       "61              NaN  \n",
       "51              NaN  \n",
       "81              NaN  \n",
       "82              NaN  \n",
       "53              NaN  \n",
       "\n",
       "[100 rows x 4 columns]"
      ]
     },
     "execution_count": 12,
     "metadata": {},
     "output_type": "execute_result"
    }
   ],
   "source": [
    "df.chat('I have given you data of employee id, name and designation. Based on their designation, give me the hierarchy of the company from top to bottom')"
   ]
  },
  {
   "cell_type": "code",
   "execution_count": 15,
   "id": "a0ee9262-0325-47e9-9a53-40ed0b85702c",
   "metadata": {},
   "outputs": [
    {
     "name": "stderr",
     "output_type": "stream",
     "text": [
      "Traceback (most recent call last):\n",
      "  File \"C:\\Users\\IotWorks\\AppData\\Local\\Programs\\Python\\Python311\\Lib\\site-packages\\pandasai\\pipelines\\chat\\generate_chat_pipeline.py\", line 310, in run\n",
      "    ).run(input)\n",
      "      ^^^^^^^^^^\n",
      "  File \"C:\\Users\\IotWorks\\AppData\\Local\\Programs\\Python\\Python311\\Lib\\site-packages\\pandasai\\pipelines\\pipeline.py\", line 137, in run\n",
      "    raise e\n",
      "  File \"C:\\Users\\IotWorks\\AppData\\Local\\Programs\\Python\\Python311\\Lib\\site-packages\\pandasai\\pipelines\\pipeline.py\", line 101, in run\n",
      "    step_output = logic.execute(\n",
      "                  ^^^^^^^^^^^^^^\n",
      "  File \"C:\\Users\\IotWorks\\AppData\\Local\\Programs\\Python\\Python311\\Lib\\site-packages\\pandasai\\pipelines\\chat\\code_generator.py\", line 33, in execute\n",
      "    code = pipeline_context.config.llm.generate_code(input, pipeline_context)\n",
      "           ^^^^^^^^^^^^^^^^^^^^^^^^^^^^^^^^^^^^^^^^^^^^^^^^^^^^^^^^^^^^^^^^^^\n",
      "  File \"C:\\Users\\IotWorks\\AppData\\Local\\Programs\\Python\\Python311\\Lib\\site-packages\\pandasai\\llm\\base.py\", line 202, in generate_code\n",
      "    return self._extract_code(response)\n",
      "           ^^^^^^^^^^^^^^^^^^^^^^^^^^^^\n",
      "  File \"C:\\Users\\IotWorks\\AppData\\Local\\Programs\\Python\\Python311\\Lib\\site-packages\\pandasai\\llm\\base.py\", line 127, in _extract_code\n",
      "    raise NoCodeFoundError(\"No code found in the response\")\n",
      "pandasai.exceptions.NoCodeFoundError: No code found in the response\n"
     ]
    },
    {
     "data": {
      "text/plain": [
       "'Unfortunately, I was not able to answer your question, because of the following error:\\n\\nNo code found in the response\\n'"
      ]
     },
     "execution_count": 15,
     "metadata": {},
     "output_type": "execute_result"
    }
   ],
   "source": [
    "df.chat('I have given you data of employee id, name and designation. Based on their unique designation, give me the hierarchy of the company from top to bottom.')"
   ]
  },
  {
   "cell_type": "code",
   "execution_count": 20,
   "id": "47491bf0-b483-4037-bd63-93aa8c503df2",
   "metadata": {},
   "outputs": [
    {
     "name": "stdout",
     "output_type": "stream",
     "text": [
      "{'type': 'string', 'value': 'Designation of Amber: Software Engineer'}\n"
     ]
    },
    {
     "data": {
      "text/plain": [
       "'Designation of Amber: Software Engineer'"
      ]
     },
     "execution_count": 20,
     "metadata": {},
     "output_type": "execute_result"
    }
   ],
   "source": [
    "df.chat('What is the designation of the employee Amber?')"
   ]
  },
  {
   "cell_type": "code",
   "execution_count": null,
   "id": "e1f05ba6-1205-4d74-99b0-36beb6a5814d",
   "metadata": {},
   "outputs": [],
   "source": []
  }
 ],
 "metadata": {
  "kernelspec": {
   "display_name": "Python 3 (ipykernel)",
   "language": "python",
   "name": "python3"
  },
  "language_info": {
   "codemirror_mode": {
    "name": "ipython",
    "version": 3
   },
   "file_extension": ".py",
   "mimetype": "text/x-python",
   "name": "python",
   "nbconvert_exporter": "python",
   "pygments_lexer": "ipython3",
   "version": "3.12.4"
  }
 },
 "nbformat": 4,
 "nbformat_minor": 5
}
