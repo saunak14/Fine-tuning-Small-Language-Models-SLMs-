{
 "cells": [
  {
   "cell_type": "code",
   "execution_count": 1,
   "id": "ef1161cd-31e7-401e-aa26-0d0cf3dda9c7",
   "metadata": {},
   "outputs": [],
   "source": [
    "from langchain.document_loaders.csv_loader import CSVLoader\n",
    "loader = CSVLoader(file_path=\"employees.csv\")\n",
    "documents = loader.load()"
   ]
  },
  {
   "cell_type": "markdown",
   "id": "0304399c-385e-4f67-ae58-f7ace624be55",
   "metadata": {},
   "source": [
    "### Chunking\n",
    "#### Splitting characters using various chunk sizes and chunk overlaps"
   ]
  },
  {
   "cell_type": "code",
   "execution_count": 2,
   "id": "58f0a17d-9b4c-4ca9-b85c-f4e529ec771e",
   "metadata": {},
   "outputs": [
    {
     "name": "stdout",
     "output_type": "stream",
     "text": [
      "page_content='employee_id: b2b4e014-fa01-40b9-aeb7-4182a72c31da\\nname: Brianna\\ndesignation: Software Engineer' metadata={'source': 'employees.csv', 'row': 0}\n",
      "page_content='employee_id: eb6d79c3-a8e1-4d3b-8027-33dae18990e0\\nname: Jennifer\\ndesignation: Senior Software Engineer' metadata={'source': 'employees.csv', 'row': 1}\n",
      "page_content='employee_id: a67a773d-89f9-4bb2-8a1c-c68db84b0028\\nname: Jessica\\ndesignation: Team Lead' metadata={'source': 'employees.csv', 'row': 2}\n",
      "page_content='employee_id: 97b6548d-ad5c-4f89-8f0e-fcd90478861e\\nname: Cheryl\\ndesignation: Project Manager' metadata={'source': 'employees.csv', 'row': 3}\n",
      "page_content='employee_id: 1e7a8ba4-0741-4707-b8dc-921ba3909760\\nname: Abigail\\ndesignation: Technical Architect' metadata={'source': 'employees.csv', 'row': 4}\n",
      "page_content='employee_id: b0452d53-e3c8-415a-b841-6e696f43278e\\nname: Maxwell\\ndesignation: Business Analyst' metadata={'source': 'employees.csv', 'row': 5}\n",
      "page_content='employee_id: 2f5a4aef-5950-4522-8dc2-6c80f2026071\\nname: Jacqueline\\ndesignation: QA Engineer' metadata={'source': 'employees.csv', 'row': 6}\n",
      "page_content='employee_id: 8ebcc2c6-d083-44db-b0f3-0f3f3ba5101b\\nname: Bethany\\ndesignation: Senior QA Engineer' metadata={'source': 'employees.csv', 'row': 7}\n",
      "page_content='employee_id: 2b84465d-8515-42ea-898b-f68c19d78e61\\nname: Richard\\ndesignation: DevOps Engineer' metadata={'source': 'employees.csv', 'row': 8}\n",
      "page_content='employee_id: ddc0e9c3-7454-4b22-8a8c-53d3a95ddbd9\\nname: Michele\\ndesignation: System Administrator' metadata={'source': 'employees.csv', 'row': 9}\n",
      "page_content='employee_id: 43751867-4a45-4c22-9844-7c4ff63e3280\\nname: Deborah\\ndesignation: Network Engineer' metadata={'source': 'employees.csv', 'row': 10}\n",
      "page_content='employee_id: f667ae13-0315-4503-9899-2f210f7f6fc3\\nname: Cody\\ndesignation: Database Administrator' metadata={'source': 'employees.csv', 'row': 11}\n",
      "page_content='employee_id: 4cba352b-9f02-4829-87d5-667780c997d5\\nname: Angela\\ndesignation: IT Support Specialist' metadata={'source': 'employees.csv', 'row': 12}\n",
      "page_content='employee_id: ba5b0eb3-6c66-4ec1-be6d-27c7ae0bb93d\\nname: Dustin\\ndesignation: UI/UX Designer' metadata={'source': 'employees.csv', 'row': 13}\n",
      "page_content='employee_id: c2519bcc-4369-4c90-b50a-d2732a67460a\\nname: Connor\\ndesignation: Frontend Developer' metadata={'source': 'employees.csv', 'row': 14}\n",
      "page_content='employee_id: 9a6363be-e1bd-4f7c-a299-563c5ca31f25\\nname: Francisco\\ndesignation: Backend Developer' metadata={'source': 'employees.csv', 'row': 15}\n",
      "page_content='employee_id: 793f4079-5e36-4a5c-a0b2-8a0d76ad86fb\\nname: Brian\\ndesignation: Full Stack Developer' metadata={'source': 'employees.csv', 'row': 16}\n",
      "page_content='employee_id: c18c02cc-168d-4697-a346-166f621e0858\\nname: Felicia\\ndesignation: Product Manager' metadata={'source': 'employees.csv', 'row': 17}\n",
      "page_content='employee_id: 07f3fa37-ac17-4a16-931c-59f2435109b6\\nname: Henry\\ndesignation: Technical Writer' metadata={'source': 'employees.csv', 'row': 18}\n",
      "page_content='employee_id: 4f3dc798-96f2-4a1b-86fc-fa381e5d7bb4\\nname: Amanda\\ndesignation: Scrum Master' metadata={'source': 'employees.csv', 'row': 19}\n",
      "page_content='employee_id: 357fbca9-0575-4a73-8d94-cc5e702b41b5\\nname: Rachel\\ndesignation: Software Engineer' metadata={'source': 'employees.csv', 'row': 20}\n",
      "page_content='employee_id: 07862577-c6ad-4bec-822b-807d704a8cb0\\nname: Phillip\\ndesignation: Senior Software Engineer' metadata={'source': 'employees.csv', 'row': 21}\n",
      "page_content='employee_id: 106db470-b2d6-41c8-9ed8-2dd5bcdfeca5\\nname: Erika\\ndesignation: Team Lead' metadata={'source': 'employees.csv', 'row': 22}\n",
      "page_content='employee_id: 330ee92c-257e-4b6b-b369-2fd6fe65382e\\nname: Patricia\\ndesignation: Project Manager' metadata={'source': 'employees.csv', 'row': 23}\n",
      "page_content='employee_id: f68f5be3-6901-4f1c-bc98-61903fea7343\\nname: Kaitlyn\\ndesignation: Technical Architect' metadata={'source': 'employees.csv', 'row': 24}\n",
      "page_content='employee_id: 37e8a095-0938-4079-a9cb-01a7dd2f4273\\nname: Justin\\ndesignation: Business Analyst' metadata={'source': 'employees.csv', 'row': 25}\n",
      "page_content='employee_id: 6501089f-a10c-4e2d-9af9-46310285d6ad\\nname: Rebecca\\ndesignation: QA Engineer' metadata={'source': 'employees.csv', 'row': 26}\n",
      "page_content='employee_id: fbcb170c-aa67-4833-8d0e-8a3b9906e897\\nname: Alan\\ndesignation: Senior QA Engineer' metadata={'source': 'employees.csv', 'row': 27}\n",
      "page_content='employee_id: 34cb5028-3275-4e87-96ef-b0202a83b5b8\\nname: Zachary\\ndesignation: DevOps Engineer' metadata={'source': 'employees.csv', 'row': 28}\n",
      "page_content='employee_id: b6feeb37-688c-494e-bb0b-42dde8049bbf\\nname: Garrett\\ndesignation: System Administrator' metadata={'source': 'employees.csv', 'row': 29}\n",
      "page_content='employee_id: 3d94b454-1d4f-4703-a0f4-15b7805f2a3f\\nname: Ryan\\ndesignation: Network Engineer' metadata={'source': 'employees.csv', 'row': 30}\n",
      "page_content='employee_id: 07f76b3b-1154-4e0b-b8cc-95dd8d381ef1\\nname: Cassie\\ndesignation: Database Administrator' metadata={'source': 'employees.csv', 'row': 31}\n",
      "page_content='employee_id: 6902f9f0-7509-4ad0-a37b-dbdd3f526fb0\\nname: Elizabeth\\ndesignation: IT Support Specialist' metadata={'source': 'employees.csv', 'row': 32}\n",
      "page_content='employee_id: 1d81f2f7-65b1-4743-9834-91883ce6ac06\\nname: Kristina\\ndesignation: UI/UX Designer' metadata={'source': 'employees.csv', 'row': 33}\n",
      "page_content='employee_id: 22ec685f-5f0b-4baa-9cbf-e6e50bc110c1\\nname: April\\ndesignation: Frontend Developer' metadata={'source': 'employees.csv', 'row': 34}\n",
      "page_content='employee_id: 80aa4809-0899-4814-be72-02d8e9ccef1a\\nname: Helen\\ndesignation: Backend Developer' metadata={'source': 'employees.csv', 'row': 35}\n",
      "page_content='employee_id: ac5deda8-3eba-43a5-adbf-510e1ee0b9fa\\nname: Jason\\ndesignation: Full Stack Developer' metadata={'source': 'employees.csv', 'row': 36}\n",
      "page_content='employee_id: 7440481b-82a7-4b25-9671-98dc77521ebc\\nname: John\\ndesignation: Product Manager' metadata={'source': 'employees.csv', 'row': 37}\n",
      "page_content='employee_id: b6952804-4a19-4053-8e02-d21ca9d6f628\\nname: Harry\\ndesignation: Technical Writer' metadata={'source': 'employees.csv', 'row': 38}\n",
      "page_content='employee_id: a835a3a5-b4fd-40ea-b26a-5218a3eff527\\nname: Megan\\ndesignation: Scrum Master' metadata={'source': 'employees.csv', 'row': 39}\n",
      "page_content='employee_id: cf9f533e-8b42-4074-8c2a-3700c8483830\\nname: Brooke\\ndesignation: Software Engineer' metadata={'source': 'employees.csv', 'row': 40}\n",
      "page_content='employee_id: 8c4677a0-2684-4e19-8fc1-6e646d5816ce\\nname: David\\ndesignation: Senior Software Engineer' metadata={'source': 'employees.csv', 'row': 41}\n",
      "page_content='employee_id: 014b6bd2-bc56-4e04-bec4-88f75c1b2647\\nname: Kyle\\ndesignation: Team Lead' metadata={'source': 'employees.csv', 'row': 42}\n",
      "page_content='employee_id: 2a64e0a9-c709-49b5-b25e-10253c541fdd\\nname: Kirsten\\ndesignation: Project Manager' metadata={'source': 'employees.csv', 'row': 43}\n",
      "page_content='employee_id: 03c3e082-2daa-439d-992b-38c61ef42576\\nname: Christian\\ndesignation: Technical Architect' metadata={'source': 'employees.csv', 'row': 44}\n",
      "page_content='employee_id: 7580f609-66de-4416-99c0-cada1f20e116\\nname: Karen\\ndesignation: Business Analyst' metadata={'source': 'employees.csv', 'row': 45}\n",
      "page_content='employee_id: dbee1c7d-535f-43c7-8301-1871c85e3c84\\nname: Stacy\\ndesignation: QA Engineer' metadata={'source': 'employees.csv', 'row': 46}\n",
      "page_content='employee_id: 44831b2c-cbdc-4c85-8fe8-4f0fd0686338\\nname: Angelica\\ndesignation: Senior QA Engineer' metadata={'source': 'employees.csv', 'row': 47}\n",
      "page_content='employee_id: c32240ed-2e75-49c2-a137-e5a004544921\\nname: Kristen\\ndesignation: DevOps Engineer' metadata={'source': 'employees.csv', 'row': 48}\n",
      "page_content='employee_id: ad3d0264-4bb1-4c7e-98d0-f4231faa5ebd\\nname: Kevin\\ndesignation: System Administrator' metadata={'source': 'employees.csv', 'row': 49}\n",
      "page_content='employee_id: cdbf017b-2473-4fbb-9b07-c68003dd037b\\nname: James\\ndesignation: Network Engineer' metadata={'source': 'employees.csv', 'row': 50}\n",
      "page_content='employee_id: 08a86a22-8ea1-4680-b152-741502797058\\nname: Teresa\\ndesignation: Database Administrator' metadata={'source': 'employees.csv', 'row': 51}\n",
      "page_content='employee_id: 89a08e18-269b-47af-9c1f-1b100d87e54e\\nname: Ernest\\ndesignation: IT Support Specialist' metadata={'source': 'employees.csv', 'row': 52}\n",
      "page_content='employee_id: fe2f8aa5-fd04-4aec-a3ee-b550c31602d4\\nname: Virginia\\ndesignation: UI/UX Designer' metadata={'source': 'employees.csv', 'row': 53}\n",
      "page_content='employee_id: f052bd6e-7166-4723-af30-a0d54ee36cfe\\nname: Christopher\\ndesignation: Frontend Developer' metadata={'source': 'employees.csv', 'row': 54}\n",
      "page_content='employee_id: 17cb06fa-2b9b-43dd-b3a0-7775a44722d6\\nname: Tammy\\ndesignation: Backend Developer' metadata={'source': 'employees.csv', 'row': 55}\n",
      "page_content='employee_id: 5b401609-82f5-45c0-b339-a9ba3a485df3\\nname: Sharon\\ndesignation: Full Stack Developer' metadata={'source': 'employees.csv', 'row': 56}\n",
      "page_content='employee_id: 1346136c-cb11-491d-8262-3b5533cc5195\\nname: Dakota\\ndesignation: Product Manager' metadata={'source': 'employees.csv', 'row': 57}\n",
      "page_content='employee_id: 7ab69eb6-569c-4ce2-b7ba-be2c1135a88a\\nname: Sabrina\\ndesignation: Technical Writer' metadata={'source': 'employees.csv', 'row': 58}\n",
      "page_content='employee_id: f2940f8c-aab0-4eda-8ea0-b65062c10d61\\nname: Madeline\\ndesignation: Scrum Master' metadata={'source': 'employees.csv', 'row': 59}\n",
      "page_content='employee_id: 82f723fd-1c61-4899-af46-259f8a500d77\\nname: Frederick\\ndesignation: Software Engineer' metadata={'source': 'employees.csv', 'row': 60}\n",
      "page_content='employee_id: a2f52e7b-8695-42bb-a890-9f411be5b73c\\nname: Taylor\\ndesignation: Senior Software Engineer' metadata={'source': 'employees.csv', 'row': 61}\n",
      "page_content='employee_id: 2c11aaf6-4ca3-4049-a90a-bca6aa4610ff\\nname: Gary\\ndesignation: Team Lead' metadata={'source': 'employees.csv', 'row': 62}\n",
      "page_content='employee_id: 0cf8a0c2-9151-41d8-80a8-b44dcbcfd06b\\nname: Lucas\\ndesignation: Project Manager' metadata={'source': 'employees.csv', 'row': 63}\n",
      "page_content='employee_id: b6780078-563f-4411-8f46-b8275d9e8f3e\\nname: Sandra\\ndesignation: Technical Architect' metadata={'source': 'employees.csv', 'row': 64}\n",
      "page_content='employee_id: 557e2641-2e16-4ad4-8684-525cdbaded75\\nname: Katherine\\ndesignation: Business Analyst' metadata={'source': 'employees.csv', 'row': 65}\n",
      "page_content='employee_id: c242b66d-3c18-466b-ad86-2adbc6ef2a6a\\nname: Lori\\ndesignation: QA Engineer' metadata={'source': 'employees.csv', 'row': 66}\n",
      "page_content='employee_id: 87f60b76-f6c4-4840-a6fe-66f413969bcd\\nname: Lauren\\ndesignation: Senior QA Engineer' metadata={'source': 'employees.csv', 'row': 67}\n",
      "page_content='employee_id: 8f187a98-bc53-4a5e-8d5b-b67a91a04848\\nname: Matthew\\ndesignation: DevOps Engineer' metadata={'source': 'employees.csv', 'row': 68}\n",
      "page_content='employee_id: 0f27d649-2f2c-4d8a-86ae-727ac0a6a77f\\nname: Debra\\ndesignation: System Administrator' metadata={'source': 'employees.csv', 'row': 69}\n",
      "page_content='employee_id: 86a5ad47-3d7e-4d59-9291-42476381a0e3\\nname: Alex\\ndesignation: Network Engineer' metadata={'source': 'employees.csv', 'row': 70}\n",
      "page_content='employee_id: 7dc53463-3cf7-4528-aa31-c1704ca7fa61\\nname: Randy\\ndesignation: Database Administrator' metadata={'source': 'employees.csv', 'row': 71}\n",
      "page_content='employee_id: 0668a2c8-c081-4f42-ac6e-07f6e207d023\\nname: Kimberly\\ndesignation: IT Support Specialist' metadata={'source': 'employees.csv', 'row': 72}\n",
      "page_content='employee_id: b2db1b2a-58a2-48c2-9756-fc4f067d51ef\\nname: Stephen\\ndesignation: UI/UX Designer' metadata={'source': 'employees.csv', 'row': 73}\n",
      "page_content='employee_id: 803a3830-952b-4ef6-8b4f-c4cd1ab43e45\\nname: Donald\\ndesignation: Frontend Developer' metadata={'source': 'employees.csv', 'row': 74}\n",
      "page_content='employee_id: 24cc7192-0a19-438f-95b2-c975d373d71f\\nname: Maria\\ndesignation: Backend Developer' metadata={'source': 'employees.csv', 'row': 75}\n",
      "page_content='employee_id: 15be6a7e-bad8-43fb-adb3-f32557c38282\\nname: Deanna\\ndesignation: Full Stack Developer' metadata={'source': 'employees.csv', 'row': 76}\n",
      "page_content='employee_id: 020dec9b-dcf8-43dc-aec5-0a152dc9b681\\nname: Steven\\ndesignation: Product Manager' metadata={'source': 'employees.csv', 'row': 77}\n",
      "page_content='employee_id: c04dac31-0380-4b65-9c9d-f974448579dc\\nname: Carrie\\ndesignation: Technical Writer' metadata={'source': 'employees.csv', 'row': 78}\n",
      "page_content='employee_id: 3f61b32f-690b-40ab-b591-a1a7dbd2193f\\nname: Robert\\ndesignation: Scrum Master' metadata={'source': 'employees.csv', 'row': 79}\n",
      "page_content='employee_id: 6f59590f-b5c8-482e-ace1-73b992882f54\\nname: Amber\\ndesignation: Software Engineer' metadata={'source': 'employees.csv', 'row': 80}\n",
      "page_content='employee_id: a2f067e6-9080-4ed8-92be-24fa6779af5a\\nname: Tracey\\ndesignation: Senior Software Engineer' metadata={'source': 'employees.csv', 'row': 81}\n",
      "page_content='employee_id: 04b45c38-1c7f-49bd-a74a-a02fe01de474\\nname: Veronica\\ndesignation: Team Lead' metadata={'source': 'employees.csv', 'row': 82}\n",
      "page_content='employee_id: 4907977c-f2fe-4202-9c6f-31711904cfda\\nname: Kristin\\ndesignation: Project Manager' metadata={'source': 'employees.csv', 'row': 83}\n",
      "page_content='employee_id: 0deda898-c661-4df2-84d3-8ed977c7aa86\\nname: Nicole\\ndesignation: Technical Architect' metadata={'source': 'employees.csv', 'row': 84}\n",
      "page_content='employee_id: d8825cdc-8a50-4093-8f2b-376096ee5b59\\nname: Michelle\\ndesignation: Business Analyst' metadata={'source': 'employees.csv', 'row': 85}\n",
      "page_content='employee_id: 8744208a-5b32-4d19-b9be-bcfd80e1d5e1\\nname: Crystal\\ndesignation: QA Engineer' metadata={'source': 'employees.csv', 'row': 86}\n",
      "page_content='employee_id: 82e7bc57-b4e4-47f9-a079-f47b603bf225\\nname: Joshua\\ndesignation: Senior QA Engineer' metadata={'source': 'employees.csv', 'row': 87}\n",
      "page_content='employee_id: b846b6a4-d5e7-4012-b51e-67aafb1bf0f2\\nname: Michael\\ndesignation: DevOps Engineer' metadata={'source': 'employees.csv', 'row': 88}\n",
      "page_content='employee_id: d25353f3-fdc3-4fb8-9c59-8bb44855719f\\nname: Dave\\ndesignation: System Administrator' metadata={'source': 'employees.csv', 'row': 89}\n",
      "page_content='employee_id: c82341a9-38ec-495d-88d6-580a39917ab8\\nname: Anthony\\ndesignation: Network Engineer' metadata={'source': 'employees.csv', 'row': 90}\n",
      "page_content='employee_id: 86438c85-502e-4f1c-af2d-0a4e41de5f78\\nname: Jerry\\ndesignation: Database Administrator' metadata={'source': 'employees.csv', 'row': 91}\n",
      "page_content='employee_id: 75df94ed-b5f0-4acc-ac8b-1cc57334e5c0\\nname: Brenda\\ndesignation: IT Support Specialist' metadata={'source': 'employees.csv', 'row': 92}\n",
      "page_content='employee_id: 0bdd1731-64d0-4c18-baa6-e22d45fecff0\\nname: Sarah\\ndesignation: UI/UX Designer' metadata={'source': 'employees.csv', 'row': 93}\n",
      "page_content='employee_id: d9883f1f-3907-4520-b7cb-ce080c39ad8a\\nname: Grace\\ndesignation: Frontend Developer' metadata={'source': 'employees.csv', 'row': 94}\n",
      "page_content='employee_id: fa337683-4341-4f50-8136-da44a0a338f7\\nname: Andrew\\ndesignation: Backend Developer' metadata={'source': 'employees.csv', 'row': 95}\n",
      "page_content='employee_id: d6a48fd1-3449-4fa2-9c14-68eac28f270b\\nname: Benjamin\\ndesignation: Full Stack Developer' metadata={'source': 'employees.csv', 'row': 96}\n",
      "page_content='employee_id: a2911fd6-03d2-45e9-86db-9e240496354c\\nname: Brandon\\ndesignation: Product Manager' metadata={'source': 'employees.csv', 'row': 97}\n",
      "page_content='employee_id: e5f15b98-d1eb-4a19-8a79-09253c866ea4\\nname: Sergio\\ndesignation: Technical Writer' metadata={'source': 'employees.csv', 'row': 98}\n",
      "page_content='employee_id: 0080b3ea-1456-4db8-ac03-822095cb3af5\\nname: Ronald\\ndesignation: Scrum Master' metadata={'source': 'employees.csv', 'row': 99}\n"
     ]
    }
   ],
   "source": [
    "from langchain.text_splitter import CharacterTextSplitter\n",
    "\n",
    "text_splitter = CharacterTextSplitter(chunk_size=1000, chunk_overlap=0)\n",
    "texts = text_splitter.split_documents(documents)\n",
    "for text in texts:\n",
    "    print(text)"
   ]
  },
  {
   "cell_type": "markdown",
   "id": "6840db04-e9b1-48e5-b76b-03c6e0123fc1",
   "metadata": {},
   "source": [
    "### Word embeddings\n",
    "#### Trying various vector embedding models"
   ]
  },
  {
   "cell_type": "code",
   "execution_count": 3,
   "id": "fe5ebd82-0bd6-4a37-8651-5da57329cd5c",
   "metadata": {},
   "outputs": [],
   "source": [
    "from langchain_community.embeddings import OllamaEmbeddings\n",
    "embeddings = OllamaEmbeddings(model=\"nomic-embed-text\")"
   ]
  },
  {
   "cell_type": "code",
   "execution_count": 4,
   "id": "a189f96b-0b68-47e2-883f-87b9b240ab0f",
   "metadata": {},
   "outputs": [
    {
     "name": "stderr",
     "output_type": "stream",
     "text": [
      "C:\\Users\\New\\anaconda3\\envs\\SLMs\\lib\\site-packages\\sentence_transformers\\cross_encoder\\CrossEncoder.py:11: TqdmExperimentalWarning: Using `tqdm.autonotebook.tqdm` in notebook mode. Use `tqdm.tqdm` instead to force console mode (e.g. in jupyter console)\n",
      "  from tqdm.autonotebook import tqdm, trange\n"
     ]
    },
    {
     "data": {
      "application/vnd.jupyter.widget-view+json": {
       "model_id": "6a25c2a2bab94b3986431ec46ef8d4d2",
       "version_major": 2,
       "version_minor": 0
      },
      "text/plain": [
       "modules.json:   0%|          | 0.00/349 [00:00<?, ?B/s]"
      ]
     },
     "metadata": {},
     "output_type": "display_data"
    },
    {
     "name": "stderr",
     "output_type": "stream",
     "text": [
      "C:\\Users\\New\\anaconda3\\envs\\SLMs\\lib\\site-packages\\huggingface_hub\\file_download.py:157: UserWarning: `huggingface_hub` cache-system uses symlinks by default to efficiently store duplicated files but your machine does not support them in C:\\Users\\New\\.cache\\huggingface\\hub\\models--sentence-transformers--all-mpnet-base-v2. Caching files will still work but in a degraded version that might require more space on your disk. This warning can be disabled by setting the `HF_HUB_DISABLE_SYMLINKS_WARNING` environment variable. For more details, see https://huggingface.co/docs/huggingface_hub/how-to-cache#limitations.\n",
      "To support symlinks on Windows, you either need to activate Developer Mode or to run Python as an administrator. In order to see activate developer mode, see this article: https://docs.microsoft.com/en-us/windows/apps/get-started/enable-your-device-for-development\n",
      "  warnings.warn(message)\n"
     ]
    },
    {
     "data": {
      "application/vnd.jupyter.widget-view+json": {
       "model_id": "f084296a32a34e898a1811948de4eeaf",
       "version_major": 2,
       "version_minor": 0
      },
      "text/plain": [
       "config_sentence_transformers.json:   0%|          | 0.00/116 [00:00<?, ?B/s]"
      ]
     },
     "metadata": {},
     "output_type": "display_data"
    },
    {
     "data": {
      "application/vnd.jupyter.widget-view+json": {
       "model_id": "d249bcee00cd4bd1b46d672499362260",
       "version_major": 2,
       "version_minor": 0
      },
      "text/plain": [
       "README.md:   0%|          | 0.00/10.6k [00:00<?, ?B/s]"
      ]
     },
     "metadata": {},
     "output_type": "display_data"
    },
    {
     "data": {
      "application/vnd.jupyter.widget-view+json": {
       "model_id": "ec1fc70eb3fa4146833045ce11d280e5",
       "version_major": 2,
       "version_minor": 0
      },
      "text/plain": [
       "sentence_bert_config.json:   0%|          | 0.00/53.0 [00:00<?, ?B/s]"
      ]
     },
     "metadata": {},
     "output_type": "display_data"
    },
    {
     "data": {
      "application/vnd.jupyter.widget-view+json": {
       "model_id": "d172422f30d647efbdf02b030c12777b",
       "version_major": 2,
       "version_minor": 0
      },
      "text/plain": [
       "config.json:   0%|          | 0.00/571 [00:00<?, ?B/s]"
      ]
     },
     "metadata": {},
     "output_type": "display_data"
    },
    {
     "data": {
      "application/vnd.jupyter.widget-view+json": {
       "model_id": "5271d761d43e473ebbe567b41a4f2a7d",
       "version_major": 2,
       "version_minor": 0
      },
      "text/plain": [
       "model.safetensors:   0%|          | 0.00/438M [00:00<?, ?B/s]"
      ]
     },
     "metadata": {},
     "output_type": "display_data"
    },
    {
     "data": {
      "application/vnd.jupyter.widget-view+json": {
       "model_id": "10051c58da1648d9ac282df4e3502bf7",
       "version_major": 2,
       "version_minor": 0
      },
      "text/plain": [
       "tokenizer_config.json:   0%|          | 0.00/363 [00:00<?, ?B/s]"
      ]
     },
     "metadata": {},
     "output_type": "display_data"
    },
    {
     "data": {
      "application/vnd.jupyter.widget-view+json": {
       "model_id": "77b9d0267e9d40a197cb37b5d7c756da",
       "version_major": 2,
       "version_minor": 0
      },
      "text/plain": [
       "vocab.txt:   0%|          | 0.00/232k [00:00<?, ?B/s]"
      ]
     },
     "metadata": {},
     "output_type": "display_data"
    },
    {
     "data": {
      "application/vnd.jupyter.widget-view+json": {
       "model_id": "78d8c0cff8fe4b788ead5f5abd6ffa17",
       "version_major": 2,
       "version_minor": 0
      },
      "text/plain": [
       "tokenizer.json:   0%|          | 0.00/466k [00:00<?, ?B/s]"
      ]
     },
     "metadata": {},
     "output_type": "display_data"
    },
    {
     "data": {
      "application/vnd.jupyter.widget-view+json": {
       "model_id": "f5653923582c49bab96a640d9b661ca3",
       "version_major": 2,
       "version_minor": 0
      },
      "text/plain": [
       "special_tokens_map.json:   0%|          | 0.00/239 [00:00<?, ?B/s]"
      ]
     },
     "metadata": {},
     "output_type": "display_data"
    },
    {
     "data": {
      "application/vnd.jupyter.widget-view+json": {
       "model_id": "8c3d8419ce254659a58ae07d9944156b",
       "version_major": 2,
       "version_minor": 0
      },
      "text/plain": [
       "1_Pooling/config.json:   0%|          | 0.00/190 [00:00<?, ?B/s]"
      ]
     },
     "metadata": {},
     "output_type": "display_data"
    }
   ],
   "source": [
    "from langchain_huggingface import HuggingFaceEmbeddings\n",
    "embeddings = HuggingFaceEmbeddings()"
   ]
  },
  {
   "cell_type": "markdown",
   "id": "caf50eca-a6ae-4612-9a7c-74da41a4f161",
   "metadata": {},
   "source": [
    "### Storing embedding in Vector DB"
   ]
  },
  {
   "cell_type": "code",
   "execution_count": 5,
   "id": "921f2c48-3d86-489f-bb54-c792e9608218",
   "metadata": {},
   "outputs": [],
   "source": [
    "from langchain_community.vectorstores import Chroma\n",
    "vectorstore = Chroma.from_documents(documents=texts, embedding=embeddings)"
   ]
  },
  {
   "cell_type": "code",
   "execution_count": 6,
   "id": "f32c8bf3-a2aa-4801-85f9-2e13f418c3a9",
   "metadata": {},
   "outputs": [],
   "source": [
    "from langchain_community.llms import Ollama\n",
    "llm = Ollama(model = \"phi3\")"
   ]
  },
  {
   "cell_type": "markdown",
   "id": "61dfd63f-bc87-4f84-b6fd-6cfd5fa92c53",
   "metadata": {},
   "source": [
    "### Querying LLM using own stored vector DB"
   ]
  },
  {
   "cell_type": "code",
   "execution_count": 7,
   "id": "099d4223-3629-4b21-ac49-247ea5248eb9",
   "metadata": {},
   "outputs": [],
   "source": [
    "from langchain.chains import ConversationalRetrievalChain\n",
    "qa_chain = ConversationalRetrievalChain.from_llm(\n",
    "    llm,\n",
    "    vectorstore.as_retriever(),\n",
    "    return_source_documents=True\n",
    ")"
   ]
  },
  {
   "cell_type": "code",
   "execution_count": 8,
   "id": "ac71fb92-fe0c-49ab-91c6-ced52fd0e0b7",
   "metadata": {},
   "outputs": [
    {
     "name": "stdin",
     "output_type": "stream",
     "text": [
      "Prompt:  How many employees are there?\n"
     ]
    },
    {
     "name": "stderr",
     "output_type": "stream",
     "text": [
      "C:\\Users\\New\\anaconda3\\envs\\SLMs\\lib\\site-packages\\langchain_core\\_api\\deprecation.py:139: LangChainDeprecationWarning: The method `Chain.__call__` was deprecated in langchain 0.1.0 and will be removed in 0.3.0. Use invoke instead.\n",
      "  warn_deprecated(\n"
     ]
    },
    {
     "name": "stdout",
     "output_type": "stream",
     "text": [
      "Answer:  There are four employees. Their employee IDs, names, and designations are as follows:\n",
      "1. Employee ID: 1346136c-cb11-491d-8262-3b5533cc5195 - Name: Dakota - Designation: Product Manager\n",
      "2. Employee ID: 7440481b-82a7-4b25-9671-98dc77521ebc - Name: John - Designation: Product Manager\n",
      "3. Employee ID: c18c02cc-168d-4697-a346-166f621e0858 - Name: Felicia - Designation: Product Manager\n",
      "4. Employee ID: 020dec9b-dcf8-43dc-aec5-0a152dc9b681 - Name: Steven - Designation: Product Manager\n",
      "\n"
     ]
    },
    {
     "name": "stdin",
     "output_type": "stream",
     "text": [
      "Prompt:  exit\n"
     ]
    },
    {
     "name": "stdout",
     "output_type": "stream",
     "text": [
      "Exiting\n"
     ]
    },
    {
     "ename": "SystemExit",
     "evalue": "",
     "output_type": "error",
     "traceback": [
      "An exception has occurred, use %tb to see the full traceback.\n",
      "\u001b[1;31mSystemExit\u001b[0m\n"
     ]
    },
    {
     "name": "stderr",
     "output_type": "stream",
     "text": [
      "C:\\Users\\New\\anaconda3\\envs\\SLMs\\lib\\site-packages\\IPython\\core\\interactiveshell.py:3585: UserWarning: To exit: use 'exit', 'quit', or Ctrl-D.\n",
      "  warn(\"To exit: use 'exit', 'quit', or Ctrl-D.\", stacklevel=1)\n"
     ]
    }
   ],
   "source": [
    "import sys\n",
    "chat_history = []\n",
    "while True:\n",
    "    query = input('Prompt: ')\n",
    "    if query == \"exit\" or query == \"quit\" or query == \"q\":\n",
    "        print('Exiting')\n",
    "        sys.exit()\n",
    "    result = qa_chain({'question': query, 'chat_history': chat_history})\n",
    "    print('Answer: ' + result['answer'] + '\\n')\n",
    "    chat_history.append((query, result['answer']))"
   ]
  },
  {
   "cell_type": "code",
   "execution_count": null,
   "id": "fc9b63ea-067b-4a7a-be7d-a05205cd13b2",
   "metadata": {},
   "outputs": [],
   "source": []
  }
 ],
 "metadata": {
  "kernelspec": {
   "display_name": "Python 3 (ipykernel)",
   "language": "python",
   "name": "python3"
  },
  "language_info": {
   "codemirror_mode": {
    "name": "ipython",
    "version": 3
   },
   "file_extension": ".py",
   "mimetype": "text/x-python",
   "name": "python",
   "nbconvert_exporter": "python",
   "pygments_lexer": "ipython3",
   "version": "3.12.4"
  }
 },
 "nbformat": 4,
 "nbformat_minor": 5
}
